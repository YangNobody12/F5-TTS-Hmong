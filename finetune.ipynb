{
  "nbformat": 4,
  "nbformat_minor": 0,
  "metadata": {
    "colab": {
      "provenance": [],
      "gpuType": "T4"
    },
    "kernelspec": {
      "name": "python3",
      "display_name": "Python 3"
    },
    "language_info": {
      "name": "python"
    },
    "accelerator": "GPU"
  },
  "cells": [
    {
      "cell_type": "markdown",
      "source": [
        "# ติดตั้ง"
      ],
      "metadata": {
        "id": "fXnq08ZVNMAh"
      }
    },
    {
      "cell_type": "code",
      "execution_count": null,
      "metadata": {
        "id": "tTdQJcckmuZ4"
      },
      "outputs": [],
      "source": [
        "!git clone https://github.com/VYNCX/F5-TTS-THAI.git\n",
        "%cd F5-TTS-THAI\n",
        "!pip install -e ."
      ]
    },
    {
      "cell_type": "markdown",
      "source": [
        "# ฝึกอบรม หรือ Finetune"
      ],
      "metadata": {
        "id": "94MRyRcQeJ0I"
      }
    },
    {
      "cell_type": "markdown",
      "source": [
        "ดาวน์โหลด Pretrained โมเดล สำหรับ Finetune โมเดลภาษาไทยเท่านั้น\n",
        "- จำตำแหน่ง Model \"/content/F5-TTS-THAI/pretrained_model/model_475000.pt\"\n",
        "- และนำไปใส่ในช่อง Pretrained Checkpoint ในแท็บ ฝึกอบรม"
      ],
      "metadata": {
        "id": "Gl2IVGTBhuro"
      }
    },
    {
      "cell_type": "code",
      "source": [
        "!mkdir -p /content/F5-TTS-THAI/pretrained_model\n",
        "!wget https://huggingface.co/VIZINTZOR/F5-TTS-THAI/resolve/main/model_475000.pt -O /content/F5-TTS-THAI/pretrained_model/model_475000.pt"
      ],
      "metadata": {
        "id": "o6pxkXL0hnSw"
      },
      "execution_count": null,
      "outputs": []
    },
    {
      "cell_type": "markdown",
      "source": [
        "เปิด Web-UI"
      ],
      "metadata": {
        "id": "vmU0eG-mjmHp"
      }
    },
    {
      "cell_type": "code",
      "source": [
        "%cd /content/F5-TTS-THAI\n",
        "!f5-tts_finetune-gradio --share"
      ],
      "metadata": {
        "id": "lKEt-pLfR413"
      },
      "execution_count": null,
      "outputs": []
    }
  ]
}