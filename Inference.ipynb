{
  "nbformat": 4,
  "nbformat_minor": 0,
  "metadata": {
    "colab": {
      "provenance": [],
      "gpuType": "T4"
    },
    "kernelspec": {
      "name": "python3",
      "display_name": "Python 3"
    },
    "language_info": {
      "name": "python"
    },
    "accelerator": "GPU"
  },
  "cells": [
    {
      "cell_type": "markdown",
      "source": [
        "# ติดตั้ง"
      ],
      "metadata": {
        "id": "fXnq08ZVNMAh"
      }
    },
    {
      "cell_type": "code",
      "execution_count": null,
      "metadata": {
        "id": "tTdQJcckmuZ4"
      },
      "outputs": [],
      "source": [
        "!git clone https://github.com/VYNCX/F5-TTS-THAI.git\n",
        "%cd F5-TTS-THAI\n",
        "!pip install git+https://github.com/VYNCX/F5-TTS-THAI.git"
      ]
    },
    {
      "cell_type": "markdown",
      "source": [
        "# ใช้งาน"
      ],
      "metadata": {
        "id": "wJNZvZB7PXSI"
      }
    },
    {
      "cell_type": "code",
      "source": [
        "!python src/f5_tts/f5_tts_webui.py --share"
      ],
      "metadata": {
        "id": "UoKmwDmfm6qP"
      },
      "execution_count": null,
      "outputs": []
    }
  ]
}
